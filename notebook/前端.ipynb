{
 "cells": [
  {
   "cell_type": "markdown",
   "metadata": {},
   "source": [
    "https://www.arealme.com/9-grid-chinese-poem-quiz/cn/"
   ]
  },
  {
   "cell_type": "code",
   "execution_count": 4,
   "metadata": {},
   "outputs": [
    {
     "name": "stdout",
     "output_type": "stream",
     "text": [
      "儿\n",
      "童\n",
      "追\n",
      "鸡\n",
      "蝶\n",
      "走\n",
      "爹\n",
      "坠\n",
      "急\n",
      "费\n",
      "黄\n",
      "迩\n"
     ]
    }
   ],
   "source": [
    "from selenium import webdriver\n",
    "from selenium.webdriver.edge.service import Service\n",
    "from selenium.webdriver.common.by import By\n",
    "from selenium.webdriver.support.ui import WebDriverWait\n",
    "from selenium.webdriver.support import expected_conditions as EC\n",
    "import time\n",
    "\n",
    "# 指定 Edge WebDriver 的路径\n",
    "edge_driver_path = \"D:\\\\poem-search-sys\\\\edgedriver\\\\msedgedriver.exe\"\n",
    "service = Service(executable_path=edge_driver_path)\n",
    "\n",
    "# 启动浏览器\n",
    "driver = webdriver.Edge(service=service)\n",
    "\n",
    "# 浏览器自动驱动，登录网站\n",
    "oriurl = 'https://www.arealme.com/9-grid-chinese-poem-quiz/cn/'\n",
    "driver.get(oriurl)\n",
    "\n",
    "try:\n",
    "    # 等待按钮加载并确保按钮可见\n",
    "    start_button = WebDriverWait(driver, 20).until(\n",
    "        EC.element_to_be_clickable((By.XPATH, '/html/body/div[4]/article/div[1]/button'))\n",
    "    )\n",
    "\n",
    "    # 使用 JavaScript 点击按钮\n",
    "    driver.execute_script(\"arguments[0].click();\", start_button)\n",
    "\n",
    "    # 等待页面加载完成\n",
    "    WebDriverWait(driver, 10).until(\n",
    "        EC.presence_of_element_located((By.XPATH, '//*[@id=\"hint_status_init\"]'))\n",
    "    )\n",
    "\n",
    "    # 爬取想要的信息\n",
    "    allelem = driver.find_elements(By.XPATH, '/html/body/ul/li[1]/div/div[1]/div[3]/b')\n",
    "\n",
    "    for elem in allelem:\n",
    "        word = elem.text\n",
    "        print(word)\n",
    "        elem.click()\n",
    "        time.sleep(1)\n",
    "\n",
    "except Exception as e:\n",
    "    print(f\"出现异常：{e}\")\n",
    "\n",
    "finally:\n",
    "    time.sleep(5)  # 等待5秒，查看爬取结果\n",
    "    driver.quit()  # 退出浏览器"
   ]
  },
  {
   "cell_type": "code",
   "execution_count": null,
   "metadata": {},
   "outputs": [],
   "source": []
  }
 ],
 "metadata": {
  "kernelspec": {
   "display_name": "poetry",
   "language": "python",
   "name": "python3"
  },
  "language_info": {
   "codemirror_mode": {
    "name": "ipython",
    "version": 3
   },
   "file_extension": ".py",
   "mimetype": "text/x-python",
   "name": "python",
   "nbconvert_exporter": "python",
   "pygments_lexer": "ipython3",
   "version": "3.10.16"
  }
 },
 "nbformat": 4,
 "nbformat_minor": 2
}
